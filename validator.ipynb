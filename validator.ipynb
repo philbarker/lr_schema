{
 "cells": [
  {
   "cell_type": "code",
   "execution_count": 47,
   "metadata": {},
   "outputs": [],
   "source": [
    "from jsonschema import validate, ValidationError, SchemaError, RefResolver\n",
    "import json\n",
    "from os.path import abspath\n"
   ]
  },
  {
   "cell_type": "code",
   "execution_count": 54,
   "metadata": {},
   "outputs": [],
   "source": [
    "schema_fn = \"book_schema.json\"\n",
    "valid_json_fn = \"book_valid.json\"\n",
    "invalid_json_fn = \"book_invalid.json\"\n",
    "base_uri = 'file://' + abspath('') + '/'"
   ]
  },
  {
   "cell_type": "code",
   "execution_count": 56,
   "metadata": {},
   "outputs": [],
   "source": [
    "with open(schema_fn, 'r') as schema_f:\n",
    "    schema = json.loads(schema_f.read())\n",
    "with open(valid_json_fn, 'r') as valid_json_f:\n",
    "    valid_json = json.loads(valid_json_f.read())\n",
    "resolver = RefResolver(referrer=schema, base_uri=base_uri)\n",
    "try :\n",
    "    validate(valid_json,  schema, resolver=resolver)\n",
    "except SchemaError as e :\n",
    "    print(\"there was a schema error\")\n",
    "    print(e.message)\n",
    "except ValidationError as e :\n",
    "    print(\"there was a validation error\")\n",
    "    print(e.message)\n",
    "    "
   ]
  },
  {
   "cell_type": "code",
   "execution_count": 57,
   "metadata": {},
   "outputs": [
    {
     "name": "stdout",
     "output_type": "stream",
     "text": [
      "there was a schema error\n",
      "['NotBook'] is not of type 'string'\n"
     ]
    }
   ],
   "source": [
    "with open(schema_fn, 'r') as schema_f:\n",
    "    schema = json.loads(schema_f.read())\n",
    "with open(invalid_json_fn, 'r') as invalid_json_f:\n",
    "    invalid_json = json.loads(invalid_json_f.read())\n",
    "try:\n",
    "    validate(invalid_json,  schema, resolver=resolver)\n",
    "except SchemaError as e :\n",
    "    print(\"there was a schema error\")\n",
    "    raise\n",
    "except ValidationError as e :\n",
    "    print(\"there was a schema error\")\n",
    "    print(e.message)\n"
   ]
  },
  {
   "cell_type": "code",
   "execution_count": null,
   "metadata": {},
   "outputs": [],
   "source": []
  }
 ],
 "metadata": {
  "kernelspec": {
   "display_name": "jsonschema_env",
   "language": "python",
   "name": "jsonschema_env"
  },
  "language_info": {
   "codemirror_mode": {
    "name": "ipython",
    "version": 3
   },
   "file_extension": ".py",
   "mimetype": "text/x-python",
   "name": "python",
   "nbconvert_exporter": "python",
   "pygments_lexer": "ipython3",
   "version": "3.8.5"
  }
 },
 "nbformat": 4,
 "nbformat_minor": 4
}
