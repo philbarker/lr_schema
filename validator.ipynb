{
 "cells": [
  {
   "cell_type": "code",
<<<<<<< HEAD
   "execution_count": 44,
=======
   "execution_count": 6,
>>>>>>> f10c69ff2e2aea4c14388bffe27b07a5b5a73eab
   "metadata": {},
   "outputs": [],
   "source": [
    "from jsonschema import validate, ValidationError, SchemaError, RefResolver\n",
    "import json\n",
    "from os.path import abspath\n"
   ]
  },
  {
   "cell_type": "code",
<<<<<<< HEAD
   "execution_count": 45,
=======
   "execution_count": 7,
>>>>>>> f10c69ff2e2aea4c14388bffe27b07a5b5a73eab
   "metadata": {},
   "outputs": [],
   "source": [
    "schema_fn = \"lr1_schema.json\"\n",
    "valid_json_fn = \"lr_valid.json\"\n",
<<<<<<< HEAD
    "invalid_json_fn = \"lr_invalid.json\"\n",
=======
>>>>>>> f10c69ff2e2aea4c14388bffe27b07a5b5a73eab
    "base_uri = 'file://' + abspath('') + '/'"
   ]
  },
  {
   "cell_type": "code",
<<<<<<< HEAD
   "execution_count": 46,
   "metadata": {},
   "outputs": [],
   "source": []
  },
  {
   "cell_type": "code",
   "execution_count": 49,
=======
   "execution_count": 8,
>>>>>>> f10c69ff2e2aea4c14388bffe27b07a5b5a73eab
   "metadata": {},
   "outputs": [],
   "source": [
    "with open(schema_fn, 'r') as schema_f:\n",
    "    schema = json.loads(schema_f.read())\n",
    "with open(valid_json_fn, 'r') as valid_json_f:\n",
<<<<<<< HEAD
    "    valid_json = json.loads(valid_json_f.read())\n",
    "resolver = RefResolver(referrer=schema, base_uri=base_uri)\n",
    "try :\n",
    "    validate(valid_json,  schema, resolver=resolver)\n",
    "except SchemaError as e :\n",
    "    print(\"there was a schema error\")\n",
    "    raise\n",
    "except ValidationError as e :\n",
    "    print(\"there was a schema error\")\n",
    "    print(e.message)\n",
    "    "
=======
    "    valid_json = json.loads(valid_json_f.read())"
>>>>>>> f10c69ff2e2aea4c14388bffe27b07a5b5a73eab
   ]
  },
  {
   "cell_type": "code",
<<<<<<< HEAD
   "execution_count": 52,
   "metadata": {},
   "outputs": [
    {
     "name": "stdout",
     "output_type": "stream",
     "text": [
      "there was a schema error\n",
      "None of ['Book'] are valid under the given schema\n"
     ]
    }
   ],
   "source": [
    "with open(schema_fn, 'r') as schema_f:\n",
    "    schema = json.loads(schema_f.read())\n",
    "with open(invalid_json_fn, 'r') as invalid_json_f:\n",
    "    invalid_json = json.loads(invalid_json_f.read())\n",
    "try:\n",
    "    validate(invalid_json,  schema, resolver=resolver)\n",
    "except SchemaError as e :\n",
    "    print(\"there was a schema error\")\n",
    "    raise\n",
    "except ValidationError as e :\n",
    "    print(\"there was a schema error\")\n",
    "    print(e.message)\n"
=======
   "execution_count": 9,
   "metadata": {},
   "outputs": [],
   "source": [
    "resolver = RefResolver(referrer=schema, base_uri=base_uri)\n",
    "validate(valid_json,  schema, resolver=resolver)"
>>>>>>> f10c69ff2e2aea4c14388bffe27b07a5b5a73eab
   ]
  },
  {
   "cell_type": "code",
   "execution_count": null,
   "metadata": {},
   "outputs": [],
   "source": []
  }
 ],
 "metadata": {
  "kernelspec": {
   "display_name": "jsonschema_env",
   "language": "python",
   "name": "jsonschema_env"
  },
  "language_info": {
   "codemirror_mode": {
    "name": "ipython",
    "version": 3
   },
   "file_extension": ".py",
   "mimetype": "text/x-python",
   "name": "python",
   "nbconvert_exporter": "python",
   "pygments_lexer": "ipython3",
   "version": "3.8.5"
  }
 },
 "nbformat": 4,
 "nbformat_minor": 4
}
